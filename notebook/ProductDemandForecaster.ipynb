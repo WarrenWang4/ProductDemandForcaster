{
 "cells": [
  {
   "cell_type": "markdown",
   "metadata": {},
   "source": [
    "# Forecasting Model to Predict Product Demand"
   ]
  },
  {
   "cell_type": "code",
   "execution_count": 1,
   "metadata": {},
   "outputs": [],
   "source": [
    "import numpy as np\n",
    "import pandas as pd\n",
    "import matplotlib.pyplot as plt\n",
    "from sklearn import linear_model, ensemble\n",
    "from sklearn import preprocessing\n",
    "from sklearn.metrics import r2_score\n",
    "from sklearn.model_selection import train_test_split\n",
    "\n",
    "productDF = pd.read_csv(\"../data/Historical Product Demand.csv\")"
   ]
  },
  {
   "cell_type": "code",
   "execution_count": 2,
   "metadata": {},
   "outputs": [
    {
     "data": {
      "text/html": [
       "<div>\n",
       "<style scoped>\n",
       "    .dataframe tbody tr th:only-of-type {\n",
       "        vertical-align: middle;\n",
       "    }\n",
       "\n",
       "    .dataframe tbody tr th {\n",
       "        vertical-align: top;\n",
       "    }\n",
       "\n",
       "    .dataframe thead th {\n",
       "        text-align: right;\n",
       "    }\n",
       "</style>\n",
       "<table border=\"1\" class=\"dataframe\">\n",
       "  <thead>\n",
       "    <tr style=\"text-align: right;\">\n",
       "      <th></th>\n",
       "      <th>Product_Code</th>\n",
       "      <th>Warehouse</th>\n",
       "      <th>Product_Category</th>\n",
       "      <th>Date</th>\n",
       "      <th>Order_Demand</th>\n",
       "    </tr>\n",
       "  </thead>\n",
       "  <tbody>\n",
       "    <tr>\n",
       "      <th>44799</th>\n",
       "      <td>Product_0965</td>\n",
       "      <td>Whse_A</td>\n",
       "      <td>Category_006</td>\n",
       "      <td>2011/1/8</td>\n",
       "      <td>2</td>\n",
       "    </tr>\n",
       "    <tr>\n",
       "      <th>131429</th>\n",
       "      <td>Product_0412</td>\n",
       "      <td>Whse_S</td>\n",
       "      <td>Category_007</td>\n",
       "      <td>2011/10/20</td>\n",
       "      <td>(2)</td>\n",
       "    </tr>\n",
       "    <tr>\n",
       "      <th>131426</th>\n",
       "      <td>Product_0125</td>\n",
       "      <td>Whse_S</td>\n",
       "      <td>Category_011</td>\n",
       "      <td>2011/10/20</td>\n",
       "      <td>(2)</td>\n",
       "    </tr>\n",
       "    <tr>\n",
       "      <th>75193</th>\n",
       "      <td>Product_0642</td>\n",
       "      <td>Whse_C</td>\n",
       "      <td>Category_019</td>\n",
       "      <td>2011/10/31</td>\n",
       "      <td>3</td>\n",
       "    </tr>\n",
       "    <tr>\n",
       "      <th>131026</th>\n",
       "      <td>Product_2137</td>\n",
       "      <td>Whse_S</td>\n",
       "      <td>Category_009</td>\n",
       "      <td>2011/11/18</td>\n",
       "      <td>(25)</td>\n",
       "    </tr>\n",
       "    <tr>\n",
       "      <th>131032</th>\n",
       "      <td>Product_0288</td>\n",
       "      <td>Whse_S</td>\n",
       "      <td>Category_021</td>\n",
       "      <td>2011/11/18</td>\n",
       "      <td>(50)</td>\n",
       "    </tr>\n",
       "    <tr>\n",
       "      <th>131031</th>\n",
       "      <td>Product_0131</td>\n",
       "      <td>Whse_S</td>\n",
       "      <td>Category_021</td>\n",
       "      <td>2011/11/18</td>\n",
       "      <td>(12)</td>\n",
       "    </tr>\n",
       "    <tr>\n",
       "      <th>131027</th>\n",
       "      <td>Product_2138</td>\n",
       "      <td>Whse_S</td>\n",
       "      <td>Category_009</td>\n",
       "      <td>2011/11/18</td>\n",
       "      <td>(49)</td>\n",
       "    </tr>\n",
       "    <tr>\n",
       "      <th>131028</th>\n",
       "      <td>Product_2143</td>\n",
       "      <td>Whse_S</td>\n",
       "      <td>Category_009</td>\n",
       "      <td>2011/11/18</td>\n",
       "      <td>(25)</td>\n",
       "    </tr>\n",
       "    <tr>\n",
       "      <th>44450</th>\n",
       "      <td>Product_0980</td>\n",
       "      <td>Whse_A</td>\n",
       "      <td>Category_028</td>\n",
       "      <td>2011/11/18</td>\n",
       "      <td>4000</td>\n",
       "    </tr>\n",
       "    <tr>\n",
       "      <th>44795</th>\n",
       "      <td>Product_0965</td>\n",
       "      <td>Whse_A</td>\n",
       "      <td>Category_006</td>\n",
       "      <td>2011/11/18</td>\n",
       "      <td>1</td>\n",
       "    </tr>\n",
       "    <tr>\n",
       "      <th>44796</th>\n",
       "      <td>Product_0965</td>\n",
       "      <td>Whse_A</td>\n",
       "      <td>Category_006</td>\n",
       "      <td>2011/11/21</td>\n",
       "      <td>3</td>\n",
       "    </tr>\n",
       "    <tr>\n",
       "      <th>44797</th>\n",
       "      <td>Product_0965</td>\n",
       "      <td>Whse_A</td>\n",
       "      <td>Category_006</td>\n",
       "      <td>2011/11/21</td>\n",
       "      <td>5</td>\n",
       "    </tr>\n",
       "    <tr>\n",
       "      <th>44798</th>\n",
       "      <td>Product_0965</td>\n",
       "      <td>Whse_A</td>\n",
       "      <td>Category_006</td>\n",
       "      <td>2011/11/21</td>\n",
       "      <td>2</td>\n",
       "    </tr>\n",
       "    <tr>\n",
       "      <th>119561</th>\n",
       "      <td>Product_0980</td>\n",
       "      <td>Whse_A</td>\n",
       "      <td>Category_028</td>\n",
       "      <td>2011/11/21</td>\n",
       "      <td>100</td>\n",
       "    </tr>\n",
       "    <tr>\n",
       "      <th>107158</th>\n",
       "      <td>Product_0138</td>\n",
       "      <td>Whse_J</td>\n",
       "      <td>Category_007</td>\n",
       "      <td>2011/11/22</td>\n",
       "      <td>188</td>\n",
       "    </tr>\n",
       "    <tr>\n",
       "      <th>107159</th>\n",
       "      <td>Product_0138</td>\n",
       "      <td>Whse_J</td>\n",
       "      <td>Category_007</td>\n",
       "      <td>2011/11/22</td>\n",
       "      <td>1852</td>\n",
       "    </tr>\n",
       "    <tr>\n",
       "      <th>111727</th>\n",
       "      <td>Product_0982</td>\n",
       "      <td>Whse_A</td>\n",
       "      <td>Category_028</td>\n",
       "      <td>2011/11/22</td>\n",
       "      <td>3700</td>\n",
       "    </tr>\n",
       "    <tr>\n",
       "      <th>44102</th>\n",
       "      <td>Product_0980</td>\n",
       "      <td>Whse_A</td>\n",
       "      <td>Category_028</td>\n",
       "      <td>2011/11/23</td>\n",
       "      <td>1000</td>\n",
       "    </tr>\n",
       "    <tr>\n",
       "      <th>71915</th>\n",
       "      <td>Product_0980</td>\n",
       "      <td>Whse_A</td>\n",
       "      <td>Category_028</td>\n",
       "      <td>2011/11/23</td>\n",
       "      <td>200</td>\n",
       "    </tr>\n",
       "    <tr>\n",
       "      <th>44103</th>\n",
       "      <td>Product_0980</td>\n",
       "      <td>Whse_A</td>\n",
       "      <td>Category_028</td>\n",
       "      <td>2011/11/24</td>\n",
       "      <td>2000</td>\n",
       "    </tr>\n",
       "    <tr>\n",
       "      <th>45010</th>\n",
       "      <td>Product_0982</td>\n",
       "      <td>Whse_A</td>\n",
       "      <td>Category_028</td>\n",
       "      <td>2011/11/24</td>\n",
       "      <td>500</td>\n",
       "    </tr>\n",
       "    <tr>\n",
       "      <th>73101</th>\n",
       "      <td>Product_1264</td>\n",
       "      <td>Whse_C</td>\n",
       "      <td>Category_019</td>\n",
       "      <td>2011/11/24</td>\n",
       "      <td>40000</td>\n",
       "    </tr>\n",
       "    <tr>\n",
       "      <th>12858</th>\n",
       "      <td>Product_1235</td>\n",
       "      <td>Whse_C</td>\n",
       "      <td>Category_019</td>\n",
       "      <td>2011/11/25</td>\n",
       "      <td>16000</td>\n",
       "    </tr>\n",
       "    <tr>\n",
       "      <th>6702</th>\n",
       "      <td>Product_1190</td>\n",
       "      <td>Whse_C</td>\n",
       "      <td>Category_019</td>\n",
       "      <td>2011/11/25</td>\n",
       "      <td>1250</td>\n",
       "    </tr>\n",
       "    <tr>\n",
       "      <th>124567</th>\n",
       "      <td>Product_0122</td>\n",
       "      <td>Whse_A</td>\n",
       "      <td>Category_021</td>\n",
       "      <td>2011/11/28</td>\n",
       "      <td>310</td>\n",
       "    </tr>\n",
       "    <tr>\n",
       "      <th>72124</th>\n",
       "      <td>Product_0987</td>\n",
       "      <td>Whse_A</td>\n",
       "      <td>Category_028</td>\n",
       "      <td>2011/11/29</td>\n",
       "      <td>13100</td>\n",
       "    </tr>\n",
       "    <tr>\n",
       "      <th>45012</th>\n",
       "      <td>Product_0982</td>\n",
       "      <td>Whse_A</td>\n",
       "      <td>Category_028</td>\n",
       "      <td>2011/11/29</td>\n",
       "      <td>100</td>\n",
       "    </tr>\n",
       "    <tr>\n",
       "      <th>41105</th>\n",
       "      <td>Product_0982</td>\n",
       "      <td>Whse_A</td>\n",
       "      <td>Category_028</td>\n",
       "      <td>2011/11/29</td>\n",
       "      <td>500</td>\n",
       "    </tr>\n",
       "    <tr>\n",
       "      <th>45011</th>\n",
       "      <td>Product_0982</td>\n",
       "      <td>Whse_A</td>\n",
       "      <td>Category_028</td>\n",
       "      <td>2011/11/29</td>\n",
       "      <td>250</td>\n",
       "    </tr>\n",
       "    <tr>\n",
       "      <th>...</th>\n",
       "      <td>...</td>\n",
       "      <td>...</td>\n",
       "      <td>...</td>\n",
       "      <td>...</td>\n",
       "      <td>...</td>\n",
       "    </tr>\n",
       "    <tr>\n",
       "      <th>995438</th>\n",
       "      <td>Product_1424</td>\n",
       "      <td>Whse_A</td>\n",
       "      <td>Category_019</td>\n",
       "      <td>NaN</td>\n",
       "      <td>(1500)</td>\n",
       "    </tr>\n",
       "    <tr>\n",
       "      <th>995439</th>\n",
       "      <td>Product_1443</td>\n",
       "      <td>Whse_A</td>\n",
       "      <td>Category_019</td>\n",
       "      <td>NaN</td>\n",
       "      <td>(1000)</td>\n",
       "    </tr>\n",
       "    <tr>\n",
       "      <th>995440</th>\n",
       "      <td>Product_1541</td>\n",
       "      <td>Whse_A</td>\n",
       "      <td>Category_019</td>\n",
       "      <td>NaN</td>\n",
       "      <td>(3200)</td>\n",
       "    </tr>\n",
       "    <tr>\n",
       "      <th>995441</th>\n",
       "      <td>Product_1402</td>\n",
       "      <td>Whse_A</td>\n",
       "      <td>Category_019</td>\n",
       "      <td>NaN</td>\n",
       "      <td>(800)</td>\n",
       "    </tr>\n",
       "    <tr>\n",
       "      <th>995442</th>\n",
       "      <td>Product_1416</td>\n",
       "      <td>Whse_A</td>\n",
       "      <td>Category_019</td>\n",
       "      <td>NaN</td>\n",
       "      <td>(100)</td>\n",
       "    </tr>\n",
       "    <tr>\n",
       "      <th>995443</th>\n",
       "      <td>Product_1419</td>\n",
       "      <td>Whse_A</td>\n",
       "      <td>Category_019</td>\n",
       "      <td>NaN</td>\n",
       "      <td>(100)</td>\n",
       "    </tr>\n",
       "    <tr>\n",
       "      <th>995444</th>\n",
       "      <td>Product_1420</td>\n",
       "      <td>Whse_A</td>\n",
       "      <td>Category_019</td>\n",
       "      <td>NaN</td>\n",
       "      <td>(100)</td>\n",
       "    </tr>\n",
       "    <tr>\n",
       "      <th>995445</th>\n",
       "      <td>Product_1421</td>\n",
       "      <td>Whse_A</td>\n",
       "      <td>Category_019</td>\n",
       "      <td>NaN</td>\n",
       "      <td>(1900)</td>\n",
       "    </tr>\n",
       "    <tr>\n",
       "      <th>995446</th>\n",
       "      <td>Product_1422</td>\n",
       "      <td>Whse_A</td>\n",
       "      <td>Category_019</td>\n",
       "      <td>NaN</td>\n",
       "      <td>(100)</td>\n",
       "    </tr>\n",
       "    <tr>\n",
       "      <th>995447</th>\n",
       "      <td>Product_1423</td>\n",
       "      <td>Whse_A</td>\n",
       "      <td>Category_019</td>\n",
       "      <td>NaN</td>\n",
       "      <td>(1300)</td>\n",
       "    </tr>\n",
       "    <tr>\n",
       "      <th>995448</th>\n",
       "      <td>Product_1424</td>\n",
       "      <td>Whse_A</td>\n",
       "      <td>Category_019</td>\n",
       "      <td>NaN</td>\n",
       "      <td>(200)</td>\n",
       "    </tr>\n",
       "    <tr>\n",
       "      <th>995449</th>\n",
       "      <td>Product_1443</td>\n",
       "      <td>Whse_A</td>\n",
       "      <td>Category_019</td>\n",
       "      <td>NaN</td>\n",
       "      <td>(2000)</td>\n",
       "    </tr>\n",
       "    <tr>\n",
       "      <th>995450</th>\n",
       "      <td>Product_1541</td>\n",
       "      <td>Whse_A</td>\n",
       "      <td>Category_019</td>\n",
       "      <td>NaN</td>\n",
       "      <td>(6800)</td>\n",
       "    </tr>\n",
       "    <tr>\n",
       "      <th>995451</th>\n",
       "      <td>Product_1422</td>\n",
       "      <td>Whse_A</td>\n",
       "      <td>Category_019</td>\n",
       "      <td>NaN</td>\n",
       "      <td>(1100)</td>\n",
       "    </tr>\n",
       "    <tr>\n",
       "      <th>995452</th>\n",
       "      <td>Product_1424</td>\n",
       "      <td>Whse_A</td>\n",
       "      <td>Category_019</td>\n",
       "      <td>NaN</td>\n",
       "      <td>(3600)</td>\n",
       "    </tr>\n",
       "    <tr>\n",
       "      <th>995453</th>\n",
       "      <td>Product_1284</td>\n",
       "      <td>Whse_A</td>\n",
       "      <td>Category_019</td>\n",
       "      <td>NaN</td>\n",
       "      <td>(400)</td>\n",
       "    </tr>\n",
       "    <tr>\n",
       "      <th>995454</th>\n",
       "      <td>Product_1388</td>\n",
       "      <td>Whse_A</td>\n",
       "      <td>Category_019</td>\n",
       "      <td>NaN</td>\n",
       "      <td>(200)</td>\n",
       "    </tr>\n",
       "    <tr>\n",
       "      <th>995455</th>\n",
       "      <td>Product_1416</td>\n",
       "      <td>Whse_A</td>\n",
       "      <td>Category_019</td>\n",
       "      <td>NaN</td>\n",
       "      <td>(200)</td>\n",
       "    </tr>\n",
       "    <tr>\n",
       "      <th>995456</th>\n",
       "      <td>Product_1419</td>\n",
       "      <td>Whse_A</td>\n",
       "      <td>Category_019</td>\n",
       "      <td>NaN</td>\n",
       "      <td>(200)</td>\n",
       "    </tr>\n",
       "    <tr>\n",
       "      <th>995457</th>\n",
       "      <td>Product_1420</td>\n",
       "      <td>Whse_A</td>\n",
       "      <td>Category_019</td>\n",
       "      <td>NaN</td>\n",
       "      <td>(200)</td>\n",
       "    </tr>\n",
       "    <tr>\n",
       "      <th>995458</th>\n",
       "      <td>Product_1422</td>\n",
       "      <td>Whse_A</td>\n",
       "      <td>Category_019</td>\n",
       "      <td>NaN</td>\n",
       "      <td>(800)</td>\n",
       "    </tr>\n",
       "    <tr>\n",
       "      <th>995459</th>\n",
       "      <td>Product_1423</td>\n",
       "      <td>Whse_A</td>\n",
       "      <td>Category_019</td>\n",
       "      <td>NaN</td>\n",
       "      <td>(1500)</td>\n",
       "    </tr>\n",
       "    <tr>\n",
       "      <th>995460</th>\n",
       "      <td>Product_1424</td>\n",
       "      <td>Whse_A</td>\n",
       "      <td>Category_019</td>\n",
       "      <td>NaN</td>\n",
       "      <td>(200)</td>\n",
       "    </tr>\n",
       "    <tr>\n",
       "      <th>995788</th>\n",
       "      <td>Product_1541</td>\n",
       "      <td>Whse_A</td>\n",
       "      <td>Category_019</td>\n",
       "      <td>NaN</td>\n",
       "      <td>(200)</td>\n",
       "    </tr>\n",
       "    <tr>\n",
       "      <th>995789</th>\n",
       "      <td>Product_1402</td>\n",
       "      <td>Whse_A</td>\n",
       "      <td>Category_019</td>\n",
       "      <td>NaN</td>\n",
       "      <td>(600)</td>\n",
       "    </tr>\n",
       "    <tr>\n",
       "      <th>995790</th>\n",
       "      <td>Product_1464</td>\n",
       "      <td>Whse_A</td>\n",
       "      <td>Category_019</td>\n",
       "      <td>NaN</td>\n",
       "      <td>(900)</td>\n",
       "    </tr>\n",
       "    <tr>\n",
       "      <th>995791</th>\n",
       "      <td>Product_1541</td>\n",
       "      <td>Whse_A</td>\n",
       "      <td>Category_019</td>\n",
       "      <td>NaN</td>\n",
       "      <td>(200)</td>\n",
       "    </tr>\n",
       "    <tr>\n",
       "      <th>995792</th>\n",
       "      <td>Product_1388</td>\n",
       "      <td>Whse_A</td>\n",
       "      <td>Category_019</td>\n",
       "      <td>NaN</td>\n",
       "      <td>(300)</td>\n",
       "    </tr>\n",
       "    <tr>\n",
       "      <th>995793</th>\n",
       "      <td>Product_1541</td>\n",
       "      <td>Whse_A</td>\n",
       "      <td>Category_019</td>\n",
       "      <td>NaN</td>\n",
       "      <td>(300)</td>\n",
       "    </tr>\n",
       "    <tr>\n",
       "      <th>995794</th>\n",
       "      <td>Product_1509</td>\n",
       "      <td>Whse_A</td>\n",
       "      <td>Category_019</td>\n",
       "      <td>NaN</td>\n",
       "      <td>(200)</td>\n",
       "    </tr>\n",
       "  </tbody>\n",
       "</table>\n",
       "<p>1048575 rows × 5 columns</p>\n",
       "</div>"
      ],
      "text/plain": [
       "        Product_Code Warehouse Product_Category        Date Order_Demand\n",
       "44799   Product_0965    Whse_A     Category_006    2011/1/8           2 \n",
       "131429  Product_0412    Whse_S     Category_007  2011/10/20          (2)\n",
       "131426  Product_0125    Whse_S     Category_011  2011/10/20          (2)\n",
       "75193   Product_0642    Whse_C     Category_019  2011/10/31           3 \n",
       "131026  Product_2137    Whse_S     Category_009  2011/11/18         (25)\n",
       "131032  Product_0288    Whse_S     Category_021  2011/11/18         (50)\n",
       "131031  Product_0131    Whse_S     Category_021  2011/11/18         (12)\n",
       "131027  Product_2138    Whse_S     Category_009  2011/11/18         (49)\n",
       "131028  Product_2143    Whse_S     Category_009  2011/11/18         (25)\n",
       "44450   Product_0980    Whse_A     Category_028  2011/11/18        4000 \n",
       "44795   Product_0965    Whse_A     Category_006  2011/11/18           1 \n",
       "44796   Product_0965    Whse_A     Category_006  2011/11/21           3 \n",
       "44797   Product_0965    Whse_A     Category_006  2011/11/21           5 \n",
       "44798   Product_0965    Whse_A     Category_006  2011/11/21           2 \n",
       "119561  Product_0980    Whse_A     Category_028  2011/11/21         100 \n",
       "107158  Product_0138    Whse_J     Category_007  2011/11/22         188 \n",
       "107159  Product_0138    Whse_J     Category_007  2011/11/22        1852 \n",
       "111727  Product_0982    Whse_A     Category_028  2011/11/22        3700 \n",
       "44102   Product_0980    Whse_A     Category_028  2011/11/23        1000 \n",
       "71915   Product_0980    Whse_A     Category_028  2011/11/23         200 \n",
       "44103   Product_0980    Whse_A     Category_028  2011/11/24        2000 \n",
       "45010   Product_0982    Whse_A     Category_028  2011/11/24         500 \n",
       "73101   Product_1264    Whse_C     Category_019  2011/11/24       40000 \n",
       "12858   Product_1235    Whse_C     Category_019  2011/11/25       16000 \n",
       "6702    Product_1190    Whse_C     Category_019  2011/11/25        1250 \n",
       "124567  Product_0122    Whse_A     Category_021  2011/11/28         310 \n",
       "72124   Product_0987    Whse_A     Category_028  2011/11/29       13100 \n",
       "45012   Product_0982    Whse_A     Category_028  2011/11/29         100 \n",
       "41105   Product_0982    Whse_A     Category_028  2011/11/29         500 \n",
       "45011   Product_0982    Whse_A     Category_028  2011/11/29         250 \n",
       "...              ...       ...              ...         ...          ...\n",
       "995438  Product_1424    Whse_A     Category_019         NaN       (1500)\n",
       "995439  Product_1443    Whse_A     Category_019         NaN       (1000)\n",
       "995440  Product_1541    Whse_A     Category_019         NaN       (3200)\n",
       "995441  Product_1402    Whse_A     Category_019         NaN        (800)\n",
       "995442  Product_1416    Whse_A     Category_019         NaN        (100)\n",
       "995443  Product_1419    Whse_A     Category_019         NaN        (100)\n",
       "995444  Product_1420    Whse_A     Category_019         NaN        (100)\n",
       "995445  Product_1421    Whse_A     Category_019         NaN       (1900)\n",
       "995446  Product_1422    Whse_A     Category_019         NaN        (100)\n",
       "995447  Product_1423    Whse_A     Category_019         NaN       (1300)\n",
       "995448  Product_1424    Whse_A     Category_019         NaN        (200)\n",
       "995449  Product_1443    Whse_A     Category_019         NaN       (2000)\n",
       "995450  Product_1541    Whse_A     Category_019         NaN       (6800)\n",
       "995451  Product_1422    Whse_A     Category_019         NaN       (1100)\n",
       "995452  Product_1424    Whse_A     Category_019         NaN       (3600)\n",
       "995453  Product_1284    Whse_A     Category_019         NaN        (400)\n",
       "995454  Product_1388    Whse_A     Category_019         NaN        (200)\n",
       "995455  Product_1416    Whse_A     Category_019         NaN        (200)\n",
       "995456  Product_1419    Whse_A     Category_019         NaN        (200)\n",
       "995457  Product_1420    Whse_A     Category_019         NaN        (200)\n",
       "995458  Product_1422    Whse_A     Category_019         NaN        (800)\n",
       "995459  Product_1423    Whse_A     Category_019         NaN       (1500)\n",
       "995460  Product_1424    Whse_A     Category_019         NaN        (200)\n",
       "995788  Product_1541    Whse_A     Category_019         NaN        (200)\n",
       "995789  Product_1402    Whse_A     Category_019         NaN        (600)\n",
       "995790  Product_1464    Whse_A     Category_019         NaN        (900)\n",
       "995791  Product_1541    Whse_A     Category_019         NaN        (200)\n",
       "995792  Product_1388    Whse_A     Category_019         NaN        (300)\n",
       "995793  Product_1541    Whse_A     Category_019         NaN        (300)\n",
       "995794  Product_1509    Whse_A     Category_019         NaN        (200)\n",
       "\n",
       "[1048575 rows x 5 columns]"
      ]
     },
     "execution_count": 2,
     "metadata": {},
     "output_type": "execute_result"
    }
   ],
   "source": [
    "productDF.sort_values(['Date'], inplace=True)\n",
    "productDF"
   ]
  },
  {
   "cell_type": "markdown",
   "metadata": {},
   "source": [
    "## Data Cleaning and Feature Engineering"
   ]
  },
  {
   "cell_type": "markdown",
   "metadata": {},
   "source": [
    "### 1. Dropping NaN Values\n",
    "First lets check how many NaN values there are in the dataset. If it is not a significant amount we can just drop all the NaN values."
   ]
  },
  {
   "cell_type": "code",
   "execution_count": 3,
   "metadata": {},
   "outputs": [
    {
     "data": {
      "text/plain": [
       "Product_Code            0\n",
       "Warehouse               0\n",
       "Product_Category        0\n",
       "Date                11239\n",
       "Order_Demand            0\n",
       "dtype: int64"
      ]
     },
     "execution_count": 3,
     "metadata": {},
     "output_type": "execute_result"
    }
   ],
   "source": [
    "numNaN = productDF.isna().sum()\n",
    "numNaN"
   ]
  },
  {
   "cell_type": "markdown",
   "metadata": {},
   "source": [
    "Looks like there is 11239 NaN values compared to 1048575 rows. Since it is not a significant amount (~1%) of the data set, I will drop all of it."
   ]
  },
  {
   "cell_type": "code",
   "execution_count": 4,
   "metadata": {},
   "outputs": [],
   "source": [
    "productDF.dropna(inplace=True)"
   ]
  },
  {
   "cell_type": "markdown",
   "metadata": {},
   "source": [
    "### 2. Keeping Order_Demand type consistent\n",
    "\n",
    "As we saw above, under the Order_Demand column, there are some values that have ( ) around them and some that do not. Therefore, to keep it consistent, I will use extraction to remove the ( ) for all the values that have them and change them all to int types."
   ]
  },
  {
   "cell_type": "code",
   "execution_count": 5,
   "metadata": {},
   "outputs": [],
   "source": [
    "productDF['Order_Demand'] = productDF['Order_Demand'].str.replace('(',\"\")\n",
    "productDF['Order_Demand'] = productDF['Order_Demand'].str.replace(')',\"\")\n",
    "productDF['Order_Demand'] = productDF['Order_Demand'].astype('int64')"
   ]
  },
  {
   "cell_type": "markdown",
   "metadata": {},
   "source": [
    "### 3. Splitting Date Column into Day, Month, Year\n",
    "\n",
    "Currently the data set has the Date column as an object type. To add more features and to easily keep track of trends between Day, Month, and Year, I will be adding those 3 features to the dataset."
   ]
  },
  {
   "cell_type": "code",
   "execution_count": 6,
   "metadata": {},
   "outputs": [],
   "source": [
    "productDF['Date'] = productDF['Date'].astype('datetime64[ns]')\n",
    "productDF['Day'] = pd.DatetimeIndex(productDF['Date']).day\n",
    "productDF['Month'] = pd.DatetimeIndex(productDF['Date']).month\n",
    "productDF['Year'] = pd.DatetimeIndex(productDF['Date']).year"
   ]
  },
  {
   "cell_type": "markdown",
   "metadata": {},
   "source": [
    "### 4. Visualization\n",
    "\n",
    "To further establish addition value from our data set, lets create some visualizations!"
   ]
  },
  {
   "cell_type": "markdown",
   "metadata": {},
   "source": [
    "#### a) Comparing Demands between Warehouses"
   ]
  },
  {
   "cell_type": "code",
   "execution_count": 7,
   "metadata": {},
   "outputs": [
    {
     "data": {
      "text/plain": [
       "<matplotlib.axes._subplots.AxesSubplot at 0x1a11703da0>"
      ]
     },
     "execution_count": 7,
     "metadata": {},
     "output_type": "execute_result"
    },
    {
     "data": {
      "image/png": "[encoded data removed]",
      "text/plain": [
       "<Figure size 432x288 with 1 Axes>"
      ]
     },
     "metadata": {},
     "output_type": "display_data"
    }
   ],
   "source": [
    "warehouseDemand = productDF.groupby('Warehouse')['Order_Demand'].sum()\n",
    "warehouseDemand.plot.bar()"
   ]
  },
  {
   "cell_type": "markdown",
   "metadata": {},
   "source": [
    "As we can see from the bar graph, warehouse J has significantly more orders compared to the others."
   ]
  },
  {
   "cell_type": "markdown",
   "metadata": {},
   "source": [
    "#### b) Comparing Demands between Product Category"
   ]
  },
  {
   "cell_type": "code",
   "execution_count": 8,
   "metadata": {},
   "outputs": [
    {
     "data": {
      "text/plain": [
       "<matplotlib.axes._subplots.AxesSubplot at 0x1a111ad278>"
      ]
     },
     "execution_count": 8,
     "metadata": {},
     "output_type": "execute_result"
    },
    {
     "data": {
      "image/png": "[encoded data removed]",
      "text/plain": [
       "<Figure size 432x288 with 1 Axes>"
      ]
     },
     "metadata": {},
     "output_type": "display_data"
    }
   ],
   "source": [
    "categoryDemand = productDF.groupby('Product_Category')['Order_Demand'].sum()\n",
    "categoryDemand.plot.bar()"
   ]
  },
  {
   "cell_type": "markdown",
   "metadata": {},
   "source": [
    "Another interesting bar graph. As we can see, the orders coming from Category 19 is significantly more than any other categories. This makes me curious about the order trends for Category 19."
   ]
  },
  {
   "cell_type": "markdown",
   "metadata": {},
   "source": [
    "#### 4. Time Series of Demands for Category 19\n",
    "\n",
    "Due to the high volume of orders coming from category 19. I have decided to focus my analysis on the time series of demands only for Category 19."
   ]
  },
  {
   "cell_type": "code",
   "execution_count": 9,
   "metadata": {},
   "outputs": [
    {
     "data": {
      "text/plain": [
       "<matplotlib.axes._subplots.AxesSubplot at 0x1a0e5d94e0>"
      ]
     },
     "execution_count": 9,
     "metadata": {},
     "output_type": "execute_result"
    },
    {
     "data": {
      "image/png": "[encoded data removed]",
      "text/plain": [
       "<Figure size 1080x360 with 1 Axes>"
      ]
     },
     "metadata": {},
     "output_type": "display_data"
    }
   ],
   "source": [
    "cat19DF = productDF.where(productDF['Product_Category']=='Category_019')\n",
    "cat19DemandDates = cat19DF.groupby('Date').sum()\n",
    "cat19DemandDates = cat19DemandDates['Order_Demand'].resample('MS').mean()\n",
    "cat19DemandDates.plot(figsize=(15,5))"
   ]
  },
  {
   "cell_type": "markdown",
   "metadata": {},
   "source": [
    "## Building the Forecasting Model\n",
    "\n",
    "As mention aboved. Due to the significant amount of products ordered from Category 19, I would like to focus on the data from Category 19 and build the model based on that. Another reason why I chose to focus only on one product category is because I believe its the order trends between the other categories might vary too much. For example, the order trend between people ordering Car Parts vs. Clothing would be vastly different. Therefore, by only focusing on a single category, I believe we will be able to better predict the product demand for that category.\n",
    "\n",
    "We will be testing 2 different forecasting models and comparing their accuracies. The first model we will be testing is the good old Linear Regression Model as it is easy to implement. The second model we will be testing is the Gradient Boost model as it is highly accurate."
   ]
  },
  {
   "cell_type": "markdown",
   "metadata": {},
   "source": [
    "### Data pre-processing"
   ]
  },
  {
   "cell_type": "code",
   "execution_count": 10,
   "metadata": {},
   "outputs": [],
   "source": [
    "cat19DF.dropna(inplace=True)\n",
    "x = cat19DF[['Day','Month','Year']]\n",
    "y = cat19DF['Order_Demand']\n",
    "x_train, x_test, y_train, y_test = train_test_split(x, y, test_size=0.10)"
   ]
  },
  {
   "cell_type": "markdown",
   "metadata": {},
   "source": [
    "### Training the Linear Regression Model"
   ]
  },
  {
   "cell_type": "code",
   "execution_count": 11,
   "metadata": {},
   "outputs": [
    {
     "data": {
      "text/plain": [
       "LinearRegression(copy_X=True, fit_intercept=True, n_jobs=1, normalize=False)"
      ]
     },
     "execution_count": 11,
     "metadata": {},
     "output_type": "execute_result"
    }
   ],
   "source": [
    "modelLR = linear_model.LinearRegression()\n",
    "modelLR.fit(x_train, y_train)"
   ]
  },
  {
   "cell_type": "markdown",
   "metadata": {},
   "source": [
    "### Linear Regression Prediction and Evaluation"
   ]
  },
  {
   "cell_type": "code",
   "execution_count": 12,
   "metadata": {},
   "outputs": [
    {
     "data": {
      "text/plain": [
       "0.00011293226764041986"
      ]
     },
     "execution_count": 12,
     "metadata": {},
     "output_type": "execute_result"
    }
   ],
   "source": [
    "y_predict = modelLR.predict(x_test)\n",
    "r2_score(y_test,y_predict)"
   ]
  },
  {
   "cell_type": "markdown",
   "metadata": {},
   "source": [
    "### Training the Gradient Boost Model"
   ]
  },
  {
   "cell_type": "code",
   "execution_count": 13,
   "metadata": {},
   "outputs": [
    {
     "data": {
      "text/plain": [
       "GradientBoostingRegressor(alpha=0.9, criterion='friedman_mse', init=None,\n",
       "             learning_rate=0.02, loss='ls', max_depth=4, max_features=None,\n",
       "             max_leaf_nodes=None, min_impurity_decrease=0.0,\n",
       "             min_impurity_split=None, min_samples_leaf=1,\n",
       "             min_samples_split=2, min_weight_fraction_leaf=0.0,\n",
       "             n_estimators=500, presort='auto', random_state=None,\n",
       "             subsample=1.0, verbose=0, warm_start=False)"
      ]
     },
     "execution_count": 13,
     "metadata": {},
     "output_type": "execute_result"
    }
   ],
   "source": [
    "params = {'n_estimators': 500,\n",
    "          'max_depth': 4,\n",
    "          'learning_rate': 0.02,\n",
    "          'loss': 'ls'}\n",
    "modelGB = ensemble.GradientBoostingRegressor(**params)\n",
    "modelGB.fit(x_train, y_train)"
   ]
  },
  {
   "cell_type": "markdown",
   "metadata": {},
   "source": [
    "### Gradient Boost Prediciton and Evaluation"
   ]
  },
  {
   "cell_type": "code",
   "execution_count": 14,
   "metadata": {},
   "outputs": [
    {
     "data": {
      "text/plain": [
       "0.002066569442236821"
      ]
     },
     "execution_count": 14,
     "metadata": {},
     "output_type": "execute_result"
    }
   ],
   "source": [
    "y_predict = modelGB.predict(x_test)\n",
    "r2_score(y_test,y_predict)"
   ]
  },
  {
   "cell_type": "markdown",
   "metadata": {},
   "source": [
    "## Conclusion\n",
    "\n",
    "As we can see, the scores for either Models is not very great. Some things we can note is that the Gradient Boost Model has better accuracy in comparison to the Linear Regression Model scoring ~20x better.  It does however take a longer time to run. \n",
    "\n",
    "### Thoughts on the low evaluation scores\n",
    "After trying over 10 combinations of Gradient Boost parameters, I have found the one implemented above to have a decent result with a reasonable run time amongst the one I tested. Maybe with a faster machine, we could quickly test a Gradient Boost Model with many more boosting stages (n_estimators) or a larger maximum depth that would result in a higher accuracy."
   ]
  }
 ],
 "metadata": {
  "kernelspec": {
   "display_name": "Python 3",
   "language": "python",
   "name": "python3"
  },
  "language_info": {
   "codemirror_mode": {
    "name": "ipython",
    "version": 3
   },
   "file_extension": ".py",
   "mimetype": "text/x-python",
   "name": "python",
   "nbconvert_exporter": "python",
   "pygments_lexer": "ipython3",
   "version": "3.6.5"
  }
 },
 "nbformat": 4,
 "nbformat_minor": 2
}
